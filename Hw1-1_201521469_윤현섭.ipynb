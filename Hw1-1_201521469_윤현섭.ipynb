{
 "cells": [
  {
   "cell_type": "markdown",
   "metadata": {},
   "source": [
    "# 일반문제\n",
    "-------------------------------------------------------------------------------"
   ]
  },
  {
   "cell_type": "markdown",
   "metadata": {},
   "source": [
    "## 1. Css Selector 수정\n",
    "Css Selector는 웹 페이지에서 특정 요소를 선택하기 위해 해당 요소까지 찾아갈 수 있도록 해주는 주소와 같은 것이다. 대부분의 웹브라우져에서는 해당 요소에 대한 css selector 값을 쉽게 얻어올 수 있다(F12 > Select an Element). 다음과 같은 selector가 있다고 한다.\n",
    "\n",
    "today main_news > div.hdline_news > ul > li:nth-child(1)\n",
    "\n",
    "이러한 selector를 웹크롤링에서 사용하기 위해서는 :nth-child라는 부분을 제거하는 작업이 필요한데, 이를 자동화 해보자.\n",
    "\n",
    "Q. 해당 Selector를 문자열로 표시하고, split과 join 함수를 활용하여 다음 예시와 같은 selector를 출력하시오.\n"
   ]
  },
  {
   "cell_type": "code",
   "execution_count": 16,
   "metadata": {},
   "outputs": [
    {
     "data": {
      "text/plain": [
       "'#today_main_news > div.hdline_news > ul > li'"
      ]
     },
     "execution_count": 16,
     "metadata": {},
     "output_type": "execute_result"
    }
   ],
   "source": [
    "selector = \"#today_main_news > div.hdline_news > ul > li:nth-child(1)\" # 1번 HINT\n",
    "\n",
    "selector_list = selector.split(\">\") # 2번 HINT split을 통해 \">\" 을 기준으로 나누어준다.\n",
    "selector_list[-1] = selector_list[-1].split(\":\")[0] # 리스트의 맨 마지막인 li:nth-child(1)을 :을 기준으로 나누어 li과 nth-child(1)로 나누어서 리스트에 넣고 그다음 첫번째 요소인 li를 selector_list 맨 마지막 요소로 변경해준다.\n",
    "\n",
    "\">\".join(selector_list)  # selector_list의 요소들을 \">\" 을 넣어서 합쳐준다."
   ]
  },
  {
   "cell_type": "markdown",
   "metadata": {},
   "source": [
    "## 2. list comprehension으로 만드는 구구단\n",
    "\n",
    "PR5 문제 3번에서 만들었던 구구단 계산기를 list comprehension으로 구현해보고자 한다.\n",
    "\n",
    "Q. list comprehension을 사용하여 구구단을 연산하는 함수 gugu_com을 작성하고 구구단 7단을 출력하시오"
   ]
  },
  {
   "cell_type": "code",
   "execution_count": 15,
   "metadata": {},
   "outputs": [
    {
     "name": "stdout",
     "output_type": "stream",
     "text": [
      "7 x 1 = 7\n",
      "7 x 2 = 14\n",
      "7 x 3 = 21\n",
      "7 x 4 = 28\n",
      "7 x 5 = 35\n",
      "7 x 6 = 42\n",
      "7 x 7 = 49\n",
      "7 x 8 = 56\n",
      "7 x 9 = 63\n"
     ]
    }
   ],
   "source": [
    "def gugu_com(x=7):   # 7단을 만들어야하기에 x 값을 7 로 함수 gugu_com 정의.\n",
    "    [print(f\"{x} x {i} = {x*i}\") for i in range(1,10)]  # for 앞부분은 7 x 1, 7 x 2를 출력하기 위함, 그 뒤에 for 구문은 1,2,3,4 를 범위 1부터 10까지 올려줌, range(10)으로 안한 이유는 7 x 0부터가 아닌 7 x 1부터 하기 위함.\n",
    "\n",
    "gugu_com(7)  # gugu_com이라는 함수 출력"
   ]
  },
  {
   "cell_type": "code",
   "execution_count": 14,
   "metadata": {},
   "outputs": [
    {
     "name": "stdout",
     "output_type": "stream",
     "text": [
      "7 x 1 = 7\n",
      "7 x 2 = 14\n",
      "7 x 3 = 21\n",
      "7 x 4 = 28\n",
      "7 x 5 = 35\n",
      "7 x 6 = 42\n",
      "7 x 7 = 49\n",
      "7 x 8 = 56\n",
      "7 x 9 = 63\n"
     ]
    }
   ],
   "source": [
    "def gugu_com(x=7):    # 다른 방법으로 표현\n",
    "    for i in range(1,10):\n",
    "        print(\"%d x %d = %d\" % (x,i,x*i))\n",
    "gugu_com(7)"
   ]
  },
  {
   "cell_type": "markdown",
   "metadata": {},
   "source": [
    "## 3. 두 주사위의 곱\n",
    "\n",
    "Q. list comprehension을 사용하여, 힌트를 제외하고는 한줄의 코드로 해당 결과를 가지는 이차원 리스트를 만드시오."
   ]
  },
  {
   "cell_type": "code",
   "execution_count": 29,
   "metadata": {},
   "outputs": [
    {
     "data": {
      "text/plain": [
       "[[1, 2, 3, 4, 5, 6],\n",
       " [2, 4, 6, 8, 10, 12],\n",
       " [3, 6, 9, 12, 15, 18],\n",
       " [4, 8, 12, 16, 20, 24],\n",
       " [5, 10, 15, 20, 25, 30],\n",
       " [6, 12, 18, 24, 30, 36]]"
      ]
     },
     "execution_count": 29,
     "metadata": {},
     "output_type": "execute_result"
    }
   ],
   "source": [
    "die = [i for i in range(1,7)] # HINT: 한개의 주사위의 값들\n",
    "\n",
    "([[i * j for i in die]for j in die]) # 첫번째 주사위가 1 일때 다음 주사위 1부터 6까지 곱하고 다음 첫번째 주사위가 2일때 곱하고 계속 반복\n",
    "\n",
    "## 질문입니다. 위 코드에 print를 붙이면 줄이 내려가지 않고 일자로 나오게 되는데 무슨 차이점이 있는건가요?? 알려주시면 감사하겠습니다.\n"
   ]
  },
  {
   "cell_type": "code",
   "execution_count": 36,
   "metadata": {},
   "outputs": [
    {
     "name": "stdout",
     "output_type": "stream",
     "text": [
      "<generator object <genexpr> at 0x0000021DAF876A50>\n"
     ]
    }
   ],
   "source": [
    "print(((i*j for i in range(1,7))for j in range(1,7)))"
   ]
  },
  {
   "cell_type": "markdown",
   "metadata": {},
   "source": [
    "## 4. 주사위의 합\n",
    "간단한 테이블 형태의 데이터를 2차원 리스트로 표현해보자. 2개의 주사위를 굴리면 다음 표와 같이 36가지의 결과가 나온다.\n",
    "\n",
    "Q. 이것을 6 x 6 크기의 2차원 리스트로 생성하고, 인덱싱을 통해 2 + 6의 값을 2가지 방법으로 나타내시오. (2차원 리스트 생성시 방법의 제한은 없습니다.)"
   ]
  },
  {
   "cell_type": "code",
   "execution_count": 38,
   "metadata": {},
   "outputs": [
    {
     "name": "stdout",
     "output_type": "stream",
     "text": [
      "8\n",
      "8\n"
     ]
    }
   ],
   "source": [
    "dice_sum = [[2, 3, 4, 5, 6, 7],    # 합의 값들을 직접 리스트에 적어 넣은 것\n",
    "            [3, 4, 5, 6, 7, 8],\n",
    "            [4, 5, 6, 7, 8, 9],\n",
    "            [5, 6, 7, 8, 9, 10],\n",
    "            [6, 7, 8, 9, 10, 11],\n",
    "            [7, 8, 9, 10, 11, 12]]\n",
    "\n",
    "print(dice_sum[1][5])        # dice_sum 리스트의 6개 중에 두번째 리스트의 값중 6번째껏\n",
    "print(dice_sum[5][1])        # dice_sum 리스트의 6개 중에 마지막 리스트의 값중 2번째 값\n",
    "\n",
    "# 파이썬의 리스트의 경우 0부터 시작이기 때문에 list[1] 일 경우 리스트에서 두번째 값"
   ]
  },
  {
   "cell_type": "code",
   "execution_count": 39,
   "metadata": {},
   "outputs": [
    {
     "name": "stdout",
     "output_type": "stream",
     "text": [
      "8\n",
      "8\n"
     ]
    }
   ],
   "source": [
    "die = [i for i in range(1,7)]   # 위에 것 보다 간단한 방법 주사위 1~6부터 값을 die에 저장\n",
    "\n",
    "dice_sum = [[i+j for i in die] for j in die] \n",
    "# dice_sum 리스트에 주사위 첫번째 주사위가 1일때 1~6 까지 더해준것, 두번째 주사위가 2일때 1~6까지 더해준 것 이런식으로 다 더해서 리스트로 저장.\n",
    "# 총 6개의 리스트가 dice_sum 리스트 안에 저장.\n",
    "\n",
    "print(dice_sum[1][5])  # 위 방법과 똑같이 리스트에 저장 되었으니 값을 출력.\n",
    "print(dice_sum[5][1])"
   ]
  },
  {
   "cell_type": "markdown",
   "metadata": {},
   "source": [
    "# 도전문제\n",
    "---------------------------------------------------------------------------"
   ]
  },
  {
   "cell_type": "markdown",
   "metadata": {},
   "source": [
    "## 표절 검사 프로그램\n",
    "### 강의노트 07 자료구조 collections 설명 참고\n",
    "아주대학교 글로벌 경영학과의 한 교수님은 과제의 표절 검사를 쉽게 하기 위해 Python을 통한 간단한 표절 검사 프로그램을 작성해보고자 한다.\n",
    "\n",
    "현재 구상 중인 프로그램은 복잡한 알고리즘을 필요로하지 않고, 간단하게 단어 빈도를 기반으로 하여, 그 유사도를 측정하고자 한다."
   ]
  },
  {
   "cell_type": "code",
   "execution_count": 41,
   "metadata": {},
   "outputs": [],
   "source": [
    "from collections import defaultdict, Counter  # 모듈 불러오기\n",
    "\n",
    "text = \"\"\"Python is a very simple programming language so even if you are new to programming, you can learn python without facing any issues.\"\"\"\n",
    "\n",
    "text2 = \"\"\"C is a very difficult programming language so even if you are good at programming, you can learn c with facing any issues.\"\"\"\n",
    "\n",
    "text3 = \"\"\"R Programming is good at statistical analysis. you can learn easily\"\"\"\n",
    "# text 변수 3개 정의"
   ]
  },
  {
   "cell_type": "markdown",
   "metadata": {},
   "source": [
    "### 문제1\n",
    "Q. defaultdict를 활용하여 text를 입력받으면 단어별 빈도를 측정하여 반환하는 함수 word_counter를 만드시오"
   ]
  },
  {
   "cell_type": "code",
   "execution_count": 43,
   "metadata": {},
   "outputs": [],
   "source": [
    "def word_counter(text):  # 함수 word_counter 정의\n",
    "    word_count = defaultdict(lambda: 0)  # word_count 딕셔너리에 단어 갯수를 집어넣기 위함. 단어가 없다면 에러가 아닌 0으로 넣음\n",
    "    for word in text.lower().split(): # 문장을 소문자로 만들어주고 공백을 기준으로 나누어 단어로 만든다.\n",
    "        word_count[word] += 1  # for 문을 돌리며 단어의 갯수들을 세어준다.\n",
    "    \n",
    "    return word_count"
   ]
  },
  {
   "cell_type": "code",
   "execution_count": 44,
   "metadata": {},
   "outputs": [
    {
     "data": {
      "text/plain": [
       "defaultdict(<function __main__.word_counter.<locals>.<lambda>()>,\n",
       "            {'python': 2,\n",
       "             'is': 1,\n",
       "             'a': 1,\n",
       "             'very': 1,\n",
       "             'simple': 1,\n",
       "             'programming': 1,\n",
       "             'language': 1,\n",
       "             'so': 1,\n",
       "             'even': 1,\n",
       "             'if': 1,\n",
       "             'you': 2,\n",
       "             'are': 1,\n",
       "             'new': 1,\n",
       "             'to': 1,\n",
       "             'programming,': 1,\n",
       "             'can': 1,\n",
       "             'learn': 1,\n",
       "             'without': 1,\n",
       "             'facing': 1,\n",
       "             'any': 1,\n",
       "             'issues.': 1})"
      ]
     },
     "execution_count": 44,
     "metadata": {},
     "output_type": "execute_result"
    }
   ],
   "source": [
    "word_counter(text)"
   ]
  },
  {
   "cell_type": "markdown",
   "metadata": {},
   "source": [
    "### 문제2\n",
    "Q. 도전문제 1의 word_counter 활용하여 text와 text2의 유사도와 text와 text3의 유사도를 구하시오."
   ]
  },
  {
   "cell_type": "code",
   "execution_count": 45,
   "metadata": {},
   "outputs": [],
   "source": [
    "def text_similarity(text_count_1, text_count_2):  # 유사도 조사 함수 정의\n",
    "    text1_count = Counter(text_count_1)    # 변수에 첫번째 받은 인수를 Counter함수를 이용하여 설정\n",
    "    text2_count = Counter(text_count_2)    # 변수에 두번째 받은 인수를 Counter함수를 이용하여 설정    \n",
    "   \n",
    "    word_total = sum(text1_count.values()) # word_total 변수에 text1_count 변수의 value 값만 추출\n",
    "    word_diff = sum((text1_count - text2_count).values()) # word_diff 변수에 text1_count 딕셔너리에서 text2_count 딕셔너리의 값들을 빼고 난 후 value 값만 추출\n",
    "    \n",
    "    return (1 - word_diff / word_total) * 100 # 공식 계산\n"
   ]
  },
  {
   "cell_type": "code",
   "execution_count": 46,
   "metadata": {},
   "outputs": [
    {
     "data": {
      "text/plain": [
       "73.91304347826086"
      ]
     },
     "execution_count": 46,
     "metadata": {},
     "output_type": "execute_result"
    }
   ],
   "source": [
    "text_similarity(word_counter(text), word_counter(text2)) # 첫번째 문장, 두번째 문장으로 인수 입력"
   ]
  },
  {
   "cell_type": "code",
   "execution_count": 47,
   "metadata": {},
   "outputs": [
    {
     "data": {
      "text/plain": [
       "21.739130434782606"
      ]
     },
     "execution_count": 47,
     "metadata": {},
     "output_type": "execute_result"
    }
   ],
   "source": [
    "text_similarity(word_counter(text), word_counter(text3)) # 첫번째 문장, 세번째 문장으로 인수 입력"
   ]
  },
  {
   "cell_type": "code",
   "execution_count": null,
   "metadata": {},
   "outputs": [],
   "source": []
  }
 ],
 "metadata": {
  "kernelspec": {
   "display_name": "Python 3",
   "language": "python",
   "name": "python3"
  },
  "language_info": {
   "codemirror_mode": {
    "name": "ipython",
    "version": 3
   },
   "file_extension": ".py",
   "mimetype": "text/x-python",
   "name": "python",
   "nbconvert_exporter": "python",
   "pygments_lexer": "ipython3",
   "version": "3.8.3"
  }
 },
 "nbformat": 4,
 "nbformat_minor": 4
}
